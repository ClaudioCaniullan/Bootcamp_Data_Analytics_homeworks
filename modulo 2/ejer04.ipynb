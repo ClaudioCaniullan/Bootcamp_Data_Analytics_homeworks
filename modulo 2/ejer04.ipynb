{
  "nbformat": 4,
  "nbformat_minor": 0,
  "metadata": {
    "colab": {
      "provenance": []
    },
    "kernelspec": {
      "name": "python3",
      "display_name": "Python 3"
    },
    "language_info": {
      "name": "python"
    }
  },
  "cells": [
    {
      "cell_type": "code",
      "execution_count": 7,
      "metadata": {
        "colab": {
          "base_uri": "https://localhost:8080/"
        },
        "id": "WjOHVKEpBYa1",
        "outputId": "888cf424-cd7d-4c68-f14d-73455c168676"
      },
      "outputs": [
        {
          "output_type": "stream",
          "name": "stdout",
          "text": [
            "85.7 esta en la lista\n",
            "True esta en la lista\n",
            "[(0, 0, 1)] no esta en la lista\n",
            "[1, 2, 3] esta en la lista\n",
            "0 no esta en la lista\n",
            "[True] no esta en la lista\n",
            "85 no esta en la lista\n",
            "a esta en la lista\n"
          ]
        }
      ],
      "source": [
        "# ejercicio 1a\n",
        "\n",
        "L = [\"almacenar\",8, \"a\", [1,2,3], True, (0,0,1), 85.7]\n",
        "\n",
        "lista = [85.7, True, [(0,0,1)],[1,2,3],0,[True],85,\"a\"]\n",
        "\n",
        "for elemento in lista:\n",
        "  if elemento in L:\n",
        "    print(str(elemento),\"esta en la lista\")\n",
        "  else:\n",
        "    print(str(elemento),\"no esta en la lista\")"
      ]
    },
    {
      "cell_type": "code",
      "source": [
        "# ejercicio 1b\n",
        "\n",
        "if (0,0,1) in L:\n",
        "  indice = L.index((0,0,1))\n",
        "  print(\"el indice de (0,0,1) es: \", indice )"
      ],
      "metadata": {
        "colab": {
          "base_uri": "https://localhost:8080/"
        },
        "id": "MAt-Jpj_GS5P",
        "outputId": "2d16c1af-ff63-4b20-c866-efddcb77a78f"
      },
      "execution_count": 9,
      "outputs": [
        {
          "output_type": "stream",
          "name": "stdout",
          "text": [
            "el indice de (0,0,1) es:  5\n"
          ]
        }
      ]
    },
    {
      "cell_type": "code",
      "source": [
        "# ejercicio 1c\n",
        "\n",
        "# ¿Como eliminar el ultimo elemento de una lista? independiente de la cantidad de elementos\n",
        "# ejemplo usando L\n",
        "L = [\"almacenar\",8, \"a\", [1,2,3], True, (0,0,1), 85.7]\n",
        "L.pop()\n",
        "L\n"
      ],
      "metadata": {
        "colab": {
          "base_uri": "https://localhost:8080/"
        },
        "id": "MPk_daRpHPAU",
        "outputId": "d3f62ccb-52cf-4ecf-e03a-bea3fa590fcc"
      },
      "execution_count": 12,
      "outputs": [
        {
          "output_type": "execute_result",
          "data": {
            "text/plain": [
              "['almacenar', 8, 'a', [1, 2, 3], True, (0, 0, 1)]"
            ]
          },
          "metadata": {},
          "execution_count": 12
        }
      ]
    },
    {
      "cell_type": "code",
      "source": [
        "# ejercicio 1d\n",
        "\n",
        "L = [\"almacenar\",8, \"a\", [1,2,3], True, (0,0,1), 85.7]\n",
        "L.count(\"a\")"
      ],
      "metadata": {
        "colab": {
          "base_uri": "https://localhost:8080/"
        },
        "id": "d8AMPYsjIIT_",
        "outputId": "475c5fec-f8ee-4df7-8ae3-6b6070d4fd80"
      },
      "execution_count": 21,
      "outputs": [
        {
          "output_type": "execute_result",
          "data": {
            "text/plain": [
              "1"
            ]
          },
          "metadata": {},
          "execution_count": 21
        }
      ]
    },
    {
      "cell_type": "code",
      "source": [
        "# ejercicio 2 \n",
        "\n",
        "palabra = input(\"ingrese una palabra: \")\n",
        "\n",
        "def palindromo(cadena):\n",
        "    inicio = 0\n",
        "    fin = len(cadena) - 1\n",
        "    while cadena[inicio] == cadena[fin]:\n",
        "        if inicio >= fin:\n",
        "            return True\n",
        "        inicio += 1\n",
        "        fin -= 1\n",
        "    return False\n",
        "\n",
        "palindromo(palabra)"
      ],
      "metadata": {
        "colab": {
          "base_uri": "https://localhost:8080/"
        },
        "id": "hMaWwydZJ3JU",
        "outputId": "f06d384e-77b5-4d3c-f995-ae3e66f33917"
      },
      "execution_count": 25,
      "outputs": [
        {
          "name": "stdout",
          "output_type": "stream",
          "text": [
            "ingrese una palabra: moom\n"
          ]
        },
        {
          "output_type": "execute_result",
          "data": {
            "text/plain": [
              "True"
            ]
          },
          "metadata": {},
          "execution_count": 25
        }
      ]
    },
    {
      "cell_type": "code",
      "source": [
        "# ejercicio 3 \n",
        "\n",
        "lista = []\n",
        "for i in range(10):\n",
        "  numeros = int(input(\"ingresa los numeros del 1 al 10:\"))\n",
        "  lista.append(numeros)\n",
        "\n",
        "for i in reversed(lista):\n",
        "  print(i)\n"
      ],
      "metadata": {
        "colab": {
          "base_uri": "https://localhost:8080/"
        },
        "id": "A7D9u1feKv_s",
        "outputId": "af22c18e-f457-44fc-cc6c-225d2355d21c"
      },
      "execution_count": 35,
      "outputs": [
        {
          "output_type": "stream",
          "name": "stdout",
          "text": [
            "ingresa los numeros del 1 al 10:1\n",
            "ingresa los numeros del 1 al 10:2\n",
            "ingresa los numeros del 1 al 10:3\n",
            "ingresa los numeros del 1 al 10:4\n",
            "ingresa los numeros del 1 al 10:5\n",
            "ingresa los numeros del 1 al 10:6\n",
            "ingresa los numeros del 1 al 10:7\n",
            "ingresa los numeros del 1 al 10:8\n",
            "ingresa los numeros del 1 al 10:9\n",
            "ingresa los numeros del 1 al 10:10\n",
            "10\n",
            "9\n",
            "8\n",
            "7\n",
            "6\n",
            "5\n",
            "4\n",
            "3\n",
            "2\n",
            "1\n"
          ]
        }
      ]
    },
    {
      "cell_type": "code",
      "source": [
        "# ejercicio 4\n",
        "\n",
        "cantidad = int(input(\"ingresa la cantidad de asignaturas que tienes: \"))\n",
        "lista1 = []\n",
        "lista2 = []\n",
        "\n",
        "for i in range(cantidad):\n",
        "  asignatura = input(\"ingresa el nombre de las asignaturas: \")\n",
        "  lista1.append(asignatura)\n",
        "\n",
        "for i in range(cantidad):\n",
        "  asig = str(lista1[i])\n",
        "  notas = int(input(\"ingresa las nota de \"+ asig + \":\"))\n",
        "  lista2.append(notas)\n",
        "\n",
        "dic = dict(zip(lista1, lista2))\n",
        "dic"
      ],
      "metadata": {
        "colab": {
          "base_uri": "https://localhost:8080/"
        },
        "id": "-YJdtOLfNdSL",
        "outputId": "3d09796a-b917-4254-ed7b-c2b705556ae2"
      },
      "execution_count": 52,
      "outputs": [
        {
          "name": "stdout",
          "output_type": "stream",
          "text": [
            "ingresa la cantidad de asignaturas que tienes: 2\n",
            "ingresa el nombre de las asignaturas: mat\n",
            "ingresa el nombre de las asignaturas: len\n",
            "ingresa las nota de mat:3\n",
            "ingresa las nota de len:4\n"
          ]
        },
        {
          "output_type": "execute_result",
          "data": {
            "text/plain": [
              "{'mat': 3, 'len': 4}"
            ]
          },
          "metadata": {},
          "execution_count": 52
        }
      ]
    },
    {
      "cell_type": "code",
      "source": [
        "# ejercicio 5\n",
        "import numpy as np\n",
        "\n",
        "# matriz A de 2x3\n",
        "A = np.array([[1,2,3],[4,5,6]])\n",
        "# matriz B de 3x2\n",
        "B = np.array([[-1,0],[0,1],[1,1]])\n",
        "\n",
        "def producto(A,B):\n",
        "  global C\n",
        "  if  A.shape[1] == B.shape[0]:\n",
        "    C = np.zeros((A.shape[0],B.shape[1]),dtype = int)\n",
        "    for row in range(2): \n",
        "        for col in range(2):\n",
        "            for elt in range(len(B)):\n",
        "              C[row, col] += A[row, elt] * B[elt, col]\n",
        "    return C\n",
        "  else:\n",
        "    return \"no se pueden multiplicar las matrices\"\n",
        "\n",
        "producto(A,B)"
      ],
      "metadata": {
        "colab": {
          "base_uri": "https://localhost:8080/"
        },
        "id": "Hr4A8k3lU0iI",
        "outputId": "17d99200-3918-4e31-f65f-827b30eba304"
      },
      "execution_count": 7,
      "outputs": [
        {
          "output_type": "execute_result",
          "data": {
            "text/plain": [
              "array([[ 2,  5],\n",
              "       [ 2, 11]])"
            ]
          },
          "metadata": {},
          "execution_count": 7
        }
      ]
    },
    {
      "cell_type": "code",
      "source": [
        "# ejercicio 6\n",
        "\n",
        "dic ={\"Euro\": \"E\", \"Dollar\":\"$\",\"Yen\":\"Y\"}\n",
        "\n",
        "# transformar texto de entrada en mayusculas\n",
        "divisa = input(\"Ingrese el nombre de la divisa: \")\n",
        "div_upper = divisa.upper()\n",
        "\n",
        "# transformar las llaves del diccionario en mayusculas\n",
        "dic2 = []\n",
        "for nombre in dic.keys():\n",
        "  nombre_upper = nombre.upper()\n",
        "  dic2.append(nombre_upper)\n",
        "\n",
        "# comparar entrada y llaves\n",
        "if div_upper in dic2:\n",
        "  if div_upper == \"DOLLAR\":\n",
        "    print(\"$\")\n",
        "  elif div_upper == \"EURO\":\n",
        "    print(\"E\")\n",
        "  elif div_upper == \"YEN\":\n",
        "    print(\"Y\")\n",
        "else:\n",
        "   print(\"no esta disponible la divisa solicitada\")\n"
      ],
      "metadata": {
        "colab": {
          "base_uri": "https://localhost:8080/"
        },
        "id": "etBlzWDTx-U_",
        "outputId": "34af092c-550d-4b6f-c61c-d0043c930c65"
      },
      "execution_count": 20,
      "outputs": [
        {
          "output_type": "stream",
          "name": "stdout",
          "text": [
            "Ingrese el nombre de la divisa: dollar\n",
            "$\n"
          ]
        }
      ]
    },
    {
      "cell_type": "code",
      "source": [
        "# ejercicio 7\n"
      ],
      "metadata": {
        "id": "1bQys_CM23hX"
      },
      "execution_count": null,
      "outputs": []
    }
  ]
}