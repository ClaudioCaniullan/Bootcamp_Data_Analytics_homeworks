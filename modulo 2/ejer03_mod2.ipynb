{
  "nbformat": 4,
  "nbformat_minor": 0,
  "metadata": {
    "colab": {
      "provenance": []
    },
    "kernelspec": {
      "name": "python3",
      "display_name": "Python 3"
    },
    "language_info": {
      "name": "python"
    }
  },
  "cells": [
    {
      "cell_type": "code",
      "execution_count": 11,
      "metadata": {
        "colab": {
          "base_uri": "https://localhost:8080/"
        },
        "id": "UnPQmydt25_7",
        "outputId": "af9da15f-e07a-4880-8e9a-b79cd207ee1b"
      },
      "outputs": [
        {
          "output_type": "stream",
          "name": "stdout",
          "text": [
            "ingrese la altura de un rectangulo: 2\n",
            "ingrese el ancho de un rectangulo: 3\n",
            "***\n",
            "***\n"
          ]
        }
      ],
      "source": [
        "# ejercicio 1\n",
        "altura = int(input(\"ingrese la altura de un rectangulo: \"))\n",
        "ancho = int(input(\"ingrese el ancho de un rectangulo: \"))\n",
        "\n",
        "\n",
        "for i in range(altura):\n",
        "  print(ancho*\"*\")\n",
        "\n"
      ]
    },
    {
      "cell_type": "code",
      "source": [
        "# ejercicio 2\n",
        "year1 = int(input(\"ingrese el años mayor: \"))\n",
        "year2 = int(input(\"ingrese el año menor: \"))\n",
        "\n",
        "def bisiesto(year):\n",
        "  if year % 4 != 0: #no divisible entre 4\n",
        "   print(\"el año \", year,\"No es bisiesto\")\n",
        "  \n",
        "  elif year % 4 == 0 and year % 100 != 0: #divisible entre 4 y no entre 100 o 400\n",
        "   print(\"el año \", year,\"Es bisiesto\")\n",
        "  \n",
        "  elif year % 4 == 0 and year % 100 == 0 and año % 400 != 0: #divisible entre 4 y 10 y no entre 400\n",
        "   print(\"el año \", year,\"No es bisiesto\")\n",
        "  \n",
        "  elif year % 4 == 0 and year % 100 == 0 and año % 400 == 0: #divisible entre 4, 100 y 400\n",
        "   print(\"el año \", year,\"Es bisiesto\")\n",
        "\n",
        "\n",
        "if year1 > year2:\n",
        "  diferencia = year1 - year2\n",
        "  \n",
        "  bisiesto(year2)\n",
        "  for i in range(diferencia):\n",
        "    year2 +=1\n",
        "    bisiesto(year2)\n",
        "\n",
        "else:\n",
        "  print(\"ingrese los años correctamente\")"
      ],
      "metadata": {
        "colab": {
          "base_uri": "https://localhost:8080/"
        },
        "id": "9HKcgT_u6iak",
        "outputId": "d413c71e-bb7d-4cb4-9385-aa8afb9ba37e"
      },
      "execution_count": 58,
      "outputs": [
        {
          "output_type": "stream",
          "name": "stdout",
          "text": [
            "ingrese el años mayor: 1990\n",
            "ingrese el año menor: 1980\n",
            "el año  1980 Es bisiesto\n",
            "el año  1981 No es bisiesto\n",
            "el año  1982 No es bisiesto\n",
            "el año  1983 No es bisiesto\n",
            "el año  1984 Es bisiesto\n",
            "el año  1985 No es bisiesto\n",
            "el año  1986 No es bisiesto\n",
            "el año  1987 No es bisiesto\n",
            "el año  1988 Es bisiesto\n",
            "el año  1989 No es bisiesto\n",
            "el año  1990 No es bisiesto\n"
          ]
        }
      ]
    },
    {
      "cell_type": "code",
      "source": [
        "# ejercicio 3\n",
        "\n",
        "numero = float(input(\"ingrese un numero para multiplicar por 10: \"))\n",
        "\n",
        "def producto(x):\n",
        "  return 10*x\n",
        "\n",
        "print(\"el resultado es:\", producto(numero))"
      ],
      "metadata": {
        "colab": {
          "base_uri": "https://localhost:8080/"
        },
        "id": "99ryfQKY5KwF",
        "outputId": "8d715a86-771c-4298-f379-906beff8cc30"
      },
      "execution_count": 14,
      "outputs": [
        {
          "output_type": "stream",
          "name": "stdout",
          "text": [
            "ingrese un numero para multiplicar por 10: 2\n",
            "el resultado es: 20.0\n"
          ]
        }
      ]
    },
    {
      "cell_type": "code",
      "source": [
        "# ejercicio 4\n",
        "\n",
        "numero = int(input(\"ingrese un numero entero positivo: \"))\n",
        "\n",
        "def f(x):\n",
        "  if x%2 == 0:\n",
        "    print(\"el numero es par\")\n",
        "  else: \n",
        "    print(\"el numero no es par\")\n",
        "\n",
        "f(numero)\n"
      ],
      "metadata": {
        "colab": {
          "base_uri": "https://localhost:8080/"
        },
        "id": "ES1lNdb66gWH",
        "outputId": "80605cdb-e5b7-486c-ac39-a77a03054082"
      },
      "execution_count": 27,
      "outputs": [
        {
          "output_type": "stream",
          "name": "stdout",
          "text": [
            "ingrese un numero entero positivo: 5\n",
            "el numero no es par\n"
          ]
        }
      ]
    },
    {
      "cell_type": "code",
      "source": [
        "# ejercicio 5\n",
        "\n",
        "lista = [1,2,3,4]\n",
        "\n",
        "def operatoria(lista):\n",
        "  suma = 0\n",
        "  for i in lista:\n",
        "    suma +=i\n",
        "  print(\"la suma de los numeros de la lista es: \",suma)\n",
        "  \n",
        "  producto = 1\n",
        "  for i in lista:\n",
        "    producto *=i\n",
        "  print(\"El producto de los numeros de la lista es: \",producto)\n",
        "\n",
        "operatoria(lista)\n"
      ],
      "metadata": {
        "colab": {
          "base_uri": "https://localhost:8080/"
        },
        "id": "6Lli2Oe87YNe",
        "outputId": "ce2cf872-11c7-4bce-97d6-6ace24742353"
      },
      "execution_count": 42,
      "outputs": [
        {
          "output_type": "stream",
          "name": "stdout",
          "text": [
            "la suma de los numeros de la lista es:  10\n",
            "El producto de los numeros de la lista es:  24\n"
          ]
        }
      ]
    }
  ]
}