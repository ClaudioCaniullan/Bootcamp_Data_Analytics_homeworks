{
  "nbformat": 4,
  "nbformat_minor": 0,
  "metadata": {
    "colab": {
      "provenance": []
    },
    "kernelspec": {
      "name": "python3",
      "display_name": "Python 3"
    },
    "language_info": {
      "name": "python"
    }
  },
  "cells": [
    {
      "cell_type": "code",
      "execution_count": 1,
      "metadata": {
        "colab": {
          "base_uri": "https://localhost:8080/"
        },
        "id": "kB-O4Beg94eu",
        "outputId": "8a8829e7-e5ea-4406-f36f-94bd37d94787"
      },
      "outputs": [
        {
          "output_type": "stream",
          "name": "stdout",
          "text": [
            "el promedio de los precios es:  788.695\n",
            "el promedio de las calificaciones es:  94.83333333333333\n"
          ]
        }
      ],
      "source": [
        "# ejercicio 1 \n",
        "import pandas as pd\n",
        "\n",
        "df = pd.read_csv(\"/content/videojuegos.csv\")\n",
        "prom_cal = df[\"Calificación\"].mean()\n",
        "prom_pre = df[\"Precio\"].mean()\n",
        "print(\"el promedio de los precios es: \", prom_pre)\n",
        "print(\"el promedio de las calificaciones es: \", prom_cal)\n"
      ]
    },
    {
      "cell_type": "code",
      "source": [
        "## REVISION DE LA DATA PARA EL EJERCICIO 2\n",
        "df2 = pd.read_csv(\"/content/videojuegos2.csv\", sep=\",\")\n",
        "df2[\"Año\"]"
      ],
      "metadata": {
        "colab": {
          "base_uri": "https://localhost:8080/"
        },
        "id": "chWkjnVKZ0S6",
        "outputId": "3c159fbd-756c-4e01-fc58-995ecd57671e"
      },
      "execution_count": 2,
      "outputs": [
        {
          "output_type": "execute_result",
          "data": {
            "text/plain": [
              "The Legend of Zelda          Famicom\n",
              "Double Dragon                 Arcade\n",
              "The Legend of Zelda              NES\n",
              "Halo 5: Guardians           Xbox One\n",
              "Curse of Ra            Commodore PET\n",
              "Battlefield 1               Xbox One\n",
              "Name: Año, dtype: object"
            ]
          },
          "metadata": {},
          "execution_count": 2
        }
      ]
    },
    {
      "cell_type": "code",
      "source": [
        "# ejercicio 2a\n",
        "import csv\n",
        "\n",
        "# abrir archivo\n",
        "results = []\n",
        "with open('/content/videojuegos2.csv') as File:\n",
        "  reader = csv.DictReader(File)\n",
        "  for row in reader:\n",
        "    results.append(row)\n",
        "    #print(row)\n",
        "\n",
        "# imprimir Nombre \n",
        "nom = []\n",
        "for dic in results:\n",
        "  for clave in dic:\n",
        "    if clave == \"Nombre\":\n",
        "      nom.append(dic[clave])\n",
        "print(nom)\n",
        "\n",
        "# imprimir Año\n",
        "year = []\n",
        "for dic in results:\n",
        "  for clave in dic:\n",
        "    if clave == \"Año\":\n",
        "      year.append(dic[clave])\n",
        "#print(year)\n",
        "\n",
        "\n",
        "# imprimir categoria \n",
        "tags = []\n",
        "for dic in results:\n",
        "  for clave in dic:\n",
        "    if clave == \"Tags(separados por ;);;;\":\n",
        "      tags.append(dic[clave])\n",
        "print(tags)\n"
      ],
      "metadata": {
        "colab": {
          "base_uri": "https://localhost:8080/"
        },
        "id": "3vJVE_xsHdOH",
        "outputId": "76c5d0e0-bd04-45e6-ec4b-bc852505a981"
      },
      "execution_count": 24,
      "outputs": [
        {
          "output_type": "stream",
          "name": "stdout",
          "text": [
            "['The Legend of Zelda', 'Double Dragon', 'The Legend of Zelda', 'Halo 5: Guardians', 'Curse of Ra', 'Battlefield 1']\n",
            "['3.5', \"Beat-'em up;Billy;Jimmy;Puñete;\", 'RPG;Link;Zelda;Hyrule;Triforce', 'FPS;Master Chief;Cortana;Covenant;', 'RPG;adventure;Temple;Apshai;', 'FPS;WWI;;;']\n"
          ]
        }
      ]
    },
    {
      "cell_type": "code",
      "source": [
        "# ejercicio 2b\n",
        "import csv\n",
        "\n",
        "# abrir archivo y los pasamos a diccionario\n",
        "results = []\n",
        "with open('/content/videojuegos2.csv') as File:\n",
        "  reader = csv.DictReader(File)\n",
        "  for row in reader:\n",
        "    results.append(row)\n",
        "    #print(row)\n",
        "\n",
        "# imprimir tipo de categoria\n",
        "tags = []\n",
        "for dic in results:\n",
        "  for clave in dic:\n",
        "    if clave == \"Tags(separados por ;);;;\":\n",
        "      tags.append(dic[clave])\n",
        "print(tags)\n",
        "\n",
        "# imprimir tipo de Consola\n",
        "con = []\n",
        "for dic in results:\n",
        "  for clave in dic:\n",
        "    if clave == \"Consola\":\n",
        "      con.append(dic[clave])\n",
        "print(con)\n",
        "\n",
        "# imprimir tipo de Calificacion\n",
        "cal = []\n",
        "for dic in results:\n",
        "  for clave in dic:\n",
        "    if clave == \"Calificacion\":\n",
        "      cal.append(dic[clave])\n",
        "print(cal)\n",
        "\n",
        "\n"
      ],
      "metadata": {
        "colab": {
          "base_uri": "https://localhost:8080/"
        },
        "id": "Y_CFIuY8lPnW",
        "outputId": "ad39a334-c4fb-41a8-cfb2-82088c30998f"
      },
      "execution_count": 25,
      "outputs": [
        {
          "output_type": "stream",
          "name": "stdout",
          "text": [
            "['3.5', \"Beat-'em up;Billy;Jimmy;Puñete;\", 'RPG;Link;Zelda;Hyrule;Triforce', 'FPS;Master Chief;Cortana;Covenant;', 'RPG;adventure;Temple;Apshai;', 'FPS;WWI;;;']\n",
            "['Famicom', 'Arcade', 'NES', 'Xbox One', 'Commodore PET', 'Xbox One']\n",
            "['Disk System', '3.7', '4.3', '4', '3', '4.8']\n"
          ]
        }
      ]
    }
  ]
}