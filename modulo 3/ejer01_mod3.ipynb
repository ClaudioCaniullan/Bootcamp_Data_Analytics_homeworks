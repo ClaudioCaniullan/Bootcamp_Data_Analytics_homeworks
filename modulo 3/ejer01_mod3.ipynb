{
  "nbformat": 4,
  "nbformat_minor": 0,
  "metadata": {
    "colab": {
      "provenance": []
    },
    "kernelspec": {
      "name": "python3",
      "display_name": "Python 3"
    },
    "language_info": {
      "name": "python"
    }
  },
  "cells": [
    {
      "cell_type": "code",
      "execution_count": 13,
      "metadata": {
        "colab": {
          "base_uri": "https://localhost:8080/"
        },
        "id": "1JqwMNFKfpA8",
        "outputId": "ab2fa072-60a4-40f9-dd90-abbb93447c0b"
      },
      "outputs": [
        {
          "output_type": "stream",
          "name": "stdout",
          "text": [
            "ingrese la cantidad de filas de las matrices3\n",
            "ingrese la cantidad de columnas de las matrices3\n",
            "[[0.57479731 0.8295562  0.34617029]\n",
            " [0.38518884 0.53237587 0.26867619]\n",
            " [0.13143516 0.02059745 0.24370477]]\n",
            "[[0.46758106 0.9604836  0.03928012]\n",
            " [0.26037005 0.20979049 0.22356869]\n",
            " [0.20603825 0.03289394 0.6792262 ]]\n",
            "[[1.04237837 1.7900398  0.38545041]\n",
            " [0.64555889 0.74216636 0.49224488]\n",
            " [0.33747341 0.05349139 0.92293097]]\n"
          ]
        }
      ],
      "source": [
        "# ejercicio 1\n",
        "\n",
        "import numpy as np\n",
        "\n",
        "# crear matrices de dimension dim1xdim2 (ambas funciones deben tener las mismas dimensiones para ser sumadas)\n",
        "dim1 = int(input(\"ingrese la cantidad de filas de las matrices\"))\n",
        "dim2 = int(input(\"ingrese la cantidad de columnas de las matrices\"))\n",
        "\n",
        "# generar la matriz1\n",
        "matriz1 = np.random.random((dim1,dim2))\n",
        "print(matriz1)\n",
        "\n",
        "# generar la matriz2\n",
        "matriz2 = np.random.random((dim1,dim2))\n",
        "print(matriz2)\n",
        "\n",
        "# imprimir la suma de las matrices \n",
        "print(matriz1+matriz2)"
      ]
    },
    {
      "cell_type": "code",
      "source": [
        "# ejercicio 2\n",
        "id_4 = np.identity(4)\n",
        "id_4"
      ],
      "metadata": {
        "colab": {
          "base_uri": "https://localhost:8080/"
        },
        "id": "e30qMl9LiPot",
        "outputId": "2e68205c-ae9d-490d-d5f3-77d409c12123"
      },
      "execution_count": 15,
      "outputs": [
        {
          "output_type": "execute_result",
          "data": {
            "text/plain": [
              "array([[1., 0., 0., 0.],\n",
              "       [0., 1., 0., 0.],\n",
              "       [0., 0., 1., 0.],\n",
              "       [0., 0., 0., 1.]])"
            ]
          },
          "metadata": {},
          "execution_count": 15
        }
      ]
    },
    {
      "cell_type": "code",
      "source": [
        "# lista de cero y uno\n",
        "lista = [0, 1]\n",
        "\n",
        "# crear una matriz de 3x3 con valores 0 y 1 \n",
        "matriz3 = np.random.choice(lista, size=(3,3))\n",
        "print(matriz3)\n",
        "\n",
        "# transformar valores 0 en false\n",
        "matrizbool1 = np.where(matriz3 == 0, \"False\", matriz3)\n",
        "matrizbool1"
      ],
      "metadata": {
        "colab": {
          "base_uri": "https://localhost:8080/"
        },
        "id": "h8UAfk4viRG_",
        "outputId": "ff0a0b66-c21d-4a9c-ea85-178cf4114bf5"
      },
      "execution_count": 149,
      "outputs": [
        {
          "output_type": "stream",
          "name": "stdout",
          "text": [
            "[[1 0 1]\n",
            " [0 1 0]\n",
            " [0 1 0]]\n"
          ]
        },
        {
          "output_type": "execute_result",
          "data": {
            "text/plain": [
              "array([['1', 'False', '1'],\n",
              "       ['False', '1', 'False'],\n",
              "       ['False', '1', 'False']], dtype='<U21')"
            ]
          },
          "metadata": {},
          "execution_count": 149
        }
      ]
    },
    {
      "cell_type": "code",
      "source": [
        "# ejericio 4\n",
        "\n",
        "array2 = np.arange(0,100,2)\n",
        "matriz4 = np.reshape(array2,(25,2))\n",
        "matriz4\n",
        "\n"
      ],
      "metadata": {
        "colab": {
          "base_uri": "https://localhost:8080/"
        },
        "id": "95XxUzN4iTrQ",
        "outputId": "fcc7b6fc-1124-4469-e6bf-8cf588fedd20"
      },
      "execution_count": 72,
      "outputs": [
        {
          "output_type": "execute_result",
          "data": {
            "text/plain": [
              "array([[ 0,  2],\n",
              "       [ 4,  6],\n",
              "       [ 8, 10],\n",
              "       [12, 14],\n",
              "       [16, 18],\n",
              "       [20, 22],\n",
              "       [24, 26],\n",
              "       [28, 30],\n",
              "       [32, 34],\n",
              "       [36, 38],\n",
              "       [40, 42],\n",
              "       [44, 46],\n",
              "       [48, 50],\n",
              "       [52, 54],\n",
              "       [56, 58],\n",
              "       [60, 62],\n",
              "       [64, 66],\n",
              "       [68, 70],\n",
              "       [72, 74],\n",
              "       [76, 78],\n",
              "       [80, 82],\n",
              "       [84, 86],\n",
              "       [88, 90],\n",
              "       [92, 94],\n",
              "       [96, 98]])"
            ]
          },
          "metadata": {},
          "execution_count": 72
        }
      ]
    }
  ]
}