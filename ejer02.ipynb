{
  "nbformat": 4,
  "nbformat_minor": 0,
  "metadata": {
    "colab": {
      "provenance": []
    },
    "kernelspec": {
      "name": "python3",
      "display_name": "Python 3"
    },
    "language_info": {
      "name": "python"
    }
  },
  "cells": [
    {
      "cell_type": "code",
      "execution_count": 1,
      "metadata": {
        "colab": {
          "base_uri": "https://localhost:8080/"
        },
        "id": "2cwSeWJxfIoS",
        "outputId": "f9aba371-19d5-4514-d63a-1c4eccb770b5"
      },
      "outputs": [
        {
          "output_type": "stream",
          "name": "stdout",
          "text": [
            "¡Hola Mundo!\n"
          ]
        }
      ],
      "source": [
        "# ejercicio 1\n",
        "\n",
        "var = \"¡Hola Mundo!\"\n",
        "print(var)"
      ]
    },
    {
      "cell_type": "code",
      "source": [
        "# ejercicio 2\n",
        "\n",
        "nombre = input(\"¿Cual es tu nombre?:\")\n",
        "print(\"¡Hola!\",nombre)"
      ],
      "metadata": {
        "colab": {
          "base_uri": "https://localhost:8080/"
        },
        "id": "ehQHUmHkf9iY",
        "outputId": "8fc38ada-6738-4592-9b86-d76743c5146a"
      },
      "execution_count": 3,
      "outputs": [
        {
          "output_type": "stream",
          "name": "stdout",
          "text": [
            "¿Cual es tu nombre?:claudio\n",
            "¡Hola! claudio\n"
          ]
        }
      ]
    },
    {
      "cell_type": "code",
      "source": [
        "# ejercicio 3\n",
        "\n",
        "horas = float(input(\"¿Cuantas horas trabajas?:\"))\n",
        "coste = float(input(\"¿Cuanto te pagan por hora?:\"))\n",
        "paga = horas*coste\n",
        "print(\"Paga correspondiente en pesos:\",paga)\n",
        "\n"
      ],
      "metadata": {
        "colab": {
          "base_uri": "https://localhost:8080/"
        },
        "id": "W80f7v8KgzGv",
        "outputId": "483aa338-e89c-4992-9e57-f9b760df00d1"
      },
      "execution_count": 4,
      "outputs": [
        {
          "output_type": "stream",
          "name": "stdout",
          "text": [
            "¿Cuantas horas trabajas?:35\n",
            "¿Cuanto te pagan por hora?:20000\n",
            "Paga correspondiente en pesos: 700000.0\n"
          ]
        }
      ]
    },
    {
      "cell_type": "code",
      "source": [
        "# ejercicio 4\n",
        "\n",
        "kilos = float(input(\"Ingrese la cantidad de kilos de pan vendido que no son del dia:\"))\n",
        "print(\"El kilo de pan cuesta $1200\")\n",
        "print(\"el descuento al pan que no es fresco es del 60%\")\n",
        "print(\"el costo final del pan vendido que no es fresco es de :\", kilos*1200*0.4)\n"
      ],
      "metadata": {
        "colab": {
          "base_uri": "https://localhost:8080/"
        },
        "id": "ziRahghahldo",
        "outputId": "07aaddd3-ea70-497d-94b6-43e08e7ac9bf"
      },
      "execution_count": 5,
      "outputs": [
        {
          "output_type": "stream",
          "name": "stdout",
          "text": [
            "Ingrese la cantidad de kilos de pan vendido que no son del dia:10\n",
            "El kilo de pan cuesta $1200\n",
            "el descuento al pan que no es fresco es del 60%\n",
            "el costo final del pan vendido que no es fresco es de : 4800.0\n"
          ]
        }
      ]
    },
    {
      "cell_type": "code",
      "source": [
        "# ejercicio 5\n",
        "sueldo = int(input(\"Ingrese su sueldo:\"))\n",
        "if sueldo > 200000:\n",
        "   print(\"Su sueldo no aumenta un 15%\")\n",
        "else: \n",
        "  print(\"Su sueldo aumentado en un 15% es: \", sueldo*1.15)"
      ],
      "metadata": {
        "colab": {
          "base_uri": "https://localhost:8080/"
        },
        "id": "4aqj_x5ejdy6",
        "outputId": "bb9f5d91-cf05-4172-aae0-87f382d754a0"
      },
      "execution_count": 11,
      "outputs": [
        {
          "output_type": "stream",
          "name": "stdout",
          "text": [
            "Ingrese su sueldo:100000\n",
            "Su sueldo aumentado en un 15% es:  114999.99999999999\n"
          ]
        }
      ]
    },
    {
      "cell_type": "code",
      "source": [
        "# ejercicio 6\n",
        "\n",
        "año = int(input(\"Ingrese el año:\"))\n",
        "\n",
        "if año % 4 != 0: #no divisible entre 4\n",
        "\tprint(\"No es bisiesto\")\n",
        "elif año % 4 == 0 and año % 100 != 0: #divisible entre 4 y no entre 100 o 400\n",
        "\tprint(\"Es bisiesto\")\n",
        "elif año % 4 == 0 and año % 100 == 0 and año % 400 != 0: #divisible entre 4 y 10 y no entre 400\n",
        "\tprint(\"No es bisiesto\")\n",
        "elif año % 4 == 0 and año % 100 == 0 and año % 400 == 0: #divisible entre 4, 100 y 400\n",
        "\tprint(\"Es bisiesto\")"
      ],
      "metadata": {
        "colab": {
          "base_uri": "https://localhost:8080/"
        },
        "id": "XbY8OHYNlpmC",
        "outputId": "d2a66603-77e0-47ce-9b8f-cce507d685b2"
      },
      "execution_count": 8,
      "outputs": [
        {
          "output_type": "stream",
          "name": "stdout",
          "text": [
            "Ingrese el año:1988\n",
            "Es bisiesto\n"
          ]
        }
      ]
    },
    {
      "cell_type": "code",
      "source": [
        "# ejercicio 7\n",
        "\n",
        "a = float(input(\"ingrese un valor a:\"))\n",
        "b = float(input(\"ingrese un valor b:\"))\n",
        "\n",
        "if a > b:\n",
        "  print(b,a)\n",
        "else:\n",
        "  print(a,b)"
      ],
      "metadata": {
        "colab": {
          "base_uri": "https://localhost:8080/"
        },
        "id": "Z4tRZMHUmFr-",
        "outputId": "14618db0-170a-4a24-aecf-889504dedab4"
      },
      "execution_count": 13,
      "outputs": [
        {
          "output_type": "stream",
          "name": "stdout",
          "text": [
            "ingrese un valor a:2\n",
            "ingrese un valor b:1\n",
            "1.0 2.0\n"
          ]
        }
      ]
    },
    {
      "cell_type": "code",
      "source": [
        "# ejercicio 8\n",
        "\n",
        "C = float(input(\"ingrese el capital C:\"))\n",
        "i = float(input(\"ingrese el interes i:\"))\n",
        "M = float(input(\"ingrese la cantidad de años:\"))\n",
        "\n",
        "final = C*(1+i)**M\n",
        "print(\"el capital final es de: \", final)\n"
      ],
      "metadata": {
        "colab": {
          "base_uri": "https://localhost:8080/"
        },
        "id": "RNz8MAfUl9jI",
        "outputId": "fc427191-83e8-4500-fd13-d31e2e6b9915"
      },
      "execution_count": 14,
      "outputs": [
        {
          "output_type": "stream",
          "name": "stdout",
          "text": [
            "ingrese el capital C:100\n",
            "ingrese el interes i:10\n",
            "ingrese la cantidad de años:2\n",
            "el capital final es de:  12100.0\n"
          ]
        }
      ]
    },
    {
      "cell_type": "code",
      "source": [
        "# ejercicio 9\n",
        "\n",
        "numero = int(input(\"Ingresa el número: \"))\n",
        "\n",
        "suma = 0\n",
        "for i in range(1, numero):\n",
        "  if numero % i == 0:\n",
        "    suma += i\n",
        "\n",
        "print(\"La suma es de sus divisores es: \", suma+numero)\n"
      ],
      "metadata": {
        "colab": {
          "base_uri": "https://localhost:8080/"
        },
        "id": "hgPpT2LSop6f",
        "outputId": "4739b682-0d3e-4a6f-9d5c-390b9aa4cfe7"
      },
      "execution_count": 23,
      "outputs": [
        {
          "output_type": "stream",
          "name": "stdout",
          "text": [
            "Ingresa el número: 6\n",
            "La suma es de sus divisores es:  12\n"
          ]
        }
      ]
    }
  ]
}